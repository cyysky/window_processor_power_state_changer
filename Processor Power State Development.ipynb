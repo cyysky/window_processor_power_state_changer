{
 "cells": [
  {
   "cell_type": "code",
   "execution_count": null,
   "id": "cc1a67c4-52de-46ab-b2d8-b2040cb71a47",
   "metadata": {},
   "outputs": [],
   "source": [
    "import ctypes\n",
    "\n",
    "import tkinter as tk\n",
    "from tkinter import ttk\n",
    "\n",
    "from ctypes import wintypes, POINTER, Structure\n",
    "\n",
    "# Define the GUID structure as per Windows API\n",
    "class GUID(Structure):\n",
    "    _fields_ = [\n",
    "        (\"Data1\", wintypes.DWORD),\n",
    "        (\"Data2\", wintypes.WORD),\n",
    "        (\"Data3\", wintypes.WORD),\n",
    "        (\"Data4\", wintypes.BYTE * 8)\n",
    "    ]\n",
    "\n",
    "# Windows API functions and constants\n",
    "powrprof = ctypes.WinDLL('powrprof.dll')\n",
    "\n",
    "# Function definitions\n",
    "POWER_WRITE_AC_VALUE_INDEX = powrprof.PowerWriteACValueIndex\n",
    "POWER_WRITE_AC_VALUE_INDEX.argtypes = [wintypes.HANDLE, POINTER(GUID), POINTER(GUID), POINTER(GUID), wintypes.DWORD]\n",
    "POWER_WRITE_AC_VALUE_INDEX.restype = wintypes.DWORD\n",
    "\n",
    "# Function to set processor power management\n",
    "def set_processor_power(percent):\n",
    "    # Placeholder values - replace these with the actual min/max values for the setting\n",
    "    maximum_value = 100\n",
    "    minimum_value = 0\n",
    "\n",
    "    # Check if the percent is within the allowed range\n",
    "    if not (0 <= percent <= 100):\n",
    "        raise ValueError(\"Percent value should be between 0 and 100\")\n",
    "\n",
    "    # Adjust the percent value based on the min/max range\n",
    "    new_value = int((percent / 100) * (maximum_value - minimum_value) + minimum_value)\n",
    "    \n",
    "    # The GUIDs need to be correctly identified and set here\n",
    "    power_plan_guid = GUID() # Replace with actual GUID\n",
    "    processor_power_guid = GUID() # Replace with actual GUID\n",
    "    #new_value = int(percent * (maximum_value - minimum_value) / 100) # Convert percent to the appropriate scale\n",
    "\n",
    "    # Call the Windows API to set the new value\n",
    "    result = POWER_WRITE_AC_VALUE_INDEX(None, ctypes.byref(power_plan_guid), None, ctypes.byref(processor_power_guid), new_value)\n",
    "\n",
    "    # Check the result of the API call\n",
    "    if result != 0:\n",
    "        # If result is non-zero, it indicates an error\n",
    "        error_code = ctypes.GetLastError()\n",
    "        error_message = ctypes.FormatError(error_code)\n",
    "        raise Exception(f\"Failed to set power value. Error code: {error_code}, Message: {error_message}\")\n",
    "    else:\n",
    "        print(\"Power value set successfully.\")\n",
    "# GUI\n",
    "app = tk.Tk()\n",
    "app.title(\"Processor Power Management\")\n",
    "\n",
    "# Slider for power percentage\n",
    "power_slider = ttk.Scale(app, from_=0, to=100, orient=\"horizontal\", command=lambda v: set_processor_power(float(v)))\n",
    "power_slider.pack()\n",
    "\n",
    "# Run the application\n",
    "app.mainloop()"
   ]
  },
  {
   "cell_type": "code",
   "execution_count": 6,
   "id": "40cbfd2d-4eff-4895-951f-235c92e33978",
   "metadata": {},
   "outputs": [
    {
     "name": "stdout",
     "output_type": "stream",
     "text": [
      "Set PROCTHROTTLEMAX to 85% for 'Balanced' plan\n"
     ]
    }
   ],
   "source": [
    "import subprocess\n",
    "\n",
    "def set_processor_power(plan_name, setting_name, value):\n",
    "    # Get the GUID of the power plan\n",
    "    result = subprocess.run([\"powercfg\", \"-l\"], capture_output=True, text=True)\n",
    "    lines = result.stdout.split('\\n')\n",
    "    plan_guid = None\n",
    "    for line in lines:\n",
    "        if plan_name in line:\n",
    "            plan_guid = line.split()[3]\n",
    "            break\n",
    "\n",
    "    if not plan_guid:\n",
    "        raise Exception(\"Power plan not found\")\n",
    "\n",
    "    # Set the processor power management to the desired value\n",
    "    subprocess.run([\"powercfg\", \"-setacvalueindex\", plan_guid, \"SUB_PROCESSOR\", setting_name, str(value)])\n",
    "    subprocess.run([\"powercfg\", \"-setactive\", plan_guid])\n",
    "\n",
    "    print(f\"Set {setting_name} to {value}% for '{plan_name}' plan\")\n",
    "\n",
    "# Example Usage\n",
    "set_processor_power(\"Balanced\", \"PROCTHROTTLEMAX\", 85)"
   ]
  },
  {
   "cell_type": "code",
   "execution_count": 8,
   "id": "549eada4-7489-4c36-85fd-04d8c050bc63",
   "metadata": {},
   "outputs": [
    {
     "name": "stdout",
     "output_type": "stream",
     "text": [
      "Set PROCTHROTTLEMAX to 40% for 'Balanced' plan\n",
      "Set PROCTHROTTLEMAX to 60% for 'Balanced' plan\n",
      "Set PROCTHROTTLEMAX to 80% for 'Balanced' plan\n",
      "Set PROCTHROTTLEMAX to 100% for 'Balanced' plan\n",
      "Set PROCTHROTTLEMAX to 20% for 'Balanced' plan\n"
     ]
    }
   ],
   "source": [
    "import tkinter as tk\n",
    "from tkinter import ttk\n",
    "import subprocess\n",
    "\n",
    "# Define a list of percentages\n",
    "percentages = [30, 60, 100]\n",
    "current_index = [0]  # Use a list for mutability in nested function\n",
    "\n",
    "def set_processor_power(plan_name, setting_name, value):\n",
    "    # Get the GUID of the power plan\n",
    "    result = subprocess.run([\"powercfg\", \"-l\"], capture_output=True, text=True)\n",
    "    lines = result.stdout.split('\\n')\n",
    "    plan_guid = None\n",
    "    for line in lines:\n",
    "        if plan_name in line:\n",
    "            plan_guid = line.split()[3]\n",
    "            break\n",
    "\n",
    "    if not plan_guid:\n",
    "        raise Exception(\"Power plan not found\")\n",
    "\n",
    "    # Set the processor power management to the desired value\n",
    "    subprocess.run([\"powercfg\", \"-setacvalueindex\", plan_guid, \"SUB_PROCESSOR\", setting_name, str(value)])\n",
    "    subprocess.run([\"powercfg\", \"-setactive\", plan_guid])\n",
    "\n",
    "    print(f\"Set {setting_name} to {value}% for '{plan_name}' plan\")\n",
    "\n",
    "def update_power_setting():\n",
    "    global current_index\n",
    "    current_index[0] = (current_index[0] + 1) % len(percentages)\n",
    "    new_percentage = percentages[current_index[0]]\n",
    "    set_processor_power(\"Balanced\", \"PROCTHROTTLEMAX\", new_percentage)\n",
    "    label.config(text=f\"Current Setting: {new_percentage}%\")\n",
    "\n",
    "# Tkinter GUI setup\n",
    "app = tk.Tk()\n",
    "app.title(\"Processor Power Management\")\n",
    "\n",
    "# Add a label to show the current setting\n",
    "label = tk.Label(app, text=\"Current Setting: 20%\")\n",
    "label.pack()\n",
    "\n",
    "# Add a button to change the power setting\n",
    "change_button = ttk.Button(app, text=\"Change Power Setting\", command=update_power_setting)\n",
    "change_button.pack()\n",
    "\n",
    "# Run the application\n",
    "app.mainloop()"
   ]
  },
  {
   "cell_type": "code",
   "execution_count": 2,
   "id": "0dfe1602-7613-4f01-9931-c6d8fb31a445",
   "metadata": {},
   "outputs": [
    {
     "name": "stdout",
     "output_type": "stream",
     "text": [
      "<re.Match object; span=(514, 536), match='Power Setting Index: 0'>\n"
     ]
    }
   ],
   "source": [
    "import tkinter as tk\n",
    "from tkinter import ttk\n",
    "import subprocess\n",
    "import re\n",
    "\n",
    "# Define a list of percentages\n",
    "percentages = [30, 60, 100]\n",
    "current_index = [0]  # Use a list for mutability in nested function\n",
    "\n",
    "\n",
    "# Function to get the GUID of the currently active power plan\n",
    "def get_active_plan_guid():\n",
    "    result = subprocess.run([\"powercfg\", \"-getactivescheme\"], capture_output=True, text=True)\n",
    "    match = re.search(r'Power Scheme GUID: ([a-f0-9-]+)  \\(.*\\)', result.stdout)\n",
    "    if match:\n",
    "        return match.group(1)\n",
    "    else:\n",
    "        raise Exception(\"Failed to get the active power plan GUID\")\n",
    "\n",
    "# Function to get the current processor power management value\n",
    "def get_current_processor_power_value(plan_guid, setting_name):\n",
    "    # Query the current setting value\n",
    "    result = subprocess.run([\"powercfg\", \"-q\", plan_guid, \"SUB_PROCESSOR\", setting_name], capture_output=True, text=True)\n",
    "    match = re.search(r'Power Setting Index: (\\d+)', result.stdout)\n",
    "    if match:\n",
    "        # Convert the value to percentage\n",
    "        print(match)\n",
    "        return int(match.group(1)) * 100 // 0x64\n",
    "    else:\n",
    "        raise Exception(\"Failed to get current power setting value\")\n",
    "\n",
    "def set_processor_power(plan_name, setting_name, value):\n",
    "    # Get the GUID of the power plan\n",
    "    result = subprocess.run([\"powercfg\", \"-l\"], capture_output=True, text=True)\n",
    "    lines = result.stdout.split('\\n')\n",
    "    plan_guid = None\n",
    "    for line in lines:\n",
    "        if plan_name in line:\n",
    "            plan_guid = line.split()[3]\n",
    "            break\n",
    "\n",
    "    if not plan_guid:\n",
    "        raise Exception(\"Power plan not found\")\n",
    "\n",
    "    # Set the processor power management to the desired value\n",
    "    subprocess.run([\"powercfg\", \"-setacvalueindex\", plan_guid, \"SUB_PROCESSOR\", setting_name, str(value)])\n",
    "    subprocess.run([\"powercfg\", \"-setdcvalueindex\", plan_guid, \"SUB_PROCESSOR\", setting_name, str(value)])\n",
    "    subprocess.run([\"powercfg\", \"-setactive\", plan_guid])\n",
    "\n",
    "    print(f\"Set {setting_name} to {value}% for '{plan_name}' plan\")\n",
    "\n",
    "def update_power_setting():\n",
    "    global current_index\n",
    "    current_index[0] = (current_index[0] + 1) % len(percentages)\n",
    "    new_percentage = percentages[current_index[0]]\n",
    "    set_processor_power(\"Balanced\", \"PROCTHROTTLEMAX\", new_percentage)\n",
    "    label.config(text=f\"Current Setting: {new_percentage}%\")\n",
    "\n",
    "def start_move(event):\n",
    "    app.x = event.x\n",
    "    app.y = event.y\n",
    "\n",
    "def stop_move(event):\n",
    "    app.x = None\n",
    "    app.y = None\n",
    "\n",
    "def on_motion(event):\n",
    "    deltax = event.x - app.x\n",
    "    deltay = event.y - app.y\n",
    "    x = app.winfo_x() + deltax\n",
    "    y = app.winfo_y() + deltay\n",
    "    app.geometry(f\"+{x}+{y}\")\n",
    "\n",
    "def close_app():\n",
    "    app.destroy()\n",
    "    \n",
    "# Tkinter GUI setup\n",
    "app = tk.Tk()\n",
    "app.title(\"Processor Power Management\")\n",
    "\n",
    "# Remove the title bar and make the window borderless\n",
    "app.overrideredirect(True)\n",
    "\n",
    "# Bind mouse events for dragging the window\n",
    "app.bind('<Button-1>', start_move)\n",
    "app.bind('<ButtonRelease-1>', stop_move)\n",
    "app.bind('<B1-Motion>', on_motion)\n",
    "\n",
    "# Add a button to change the power setting\n",
    "change_button = ttk.Button(app, text=\"Change Power Setting\", command=update_power_setting)\n",
    "change_button.pack()\n",
    "\n",
    "# Get the current active plan GUID and current setting\n",
    "active_plan_guid = get_active_plan_guid()\n",
    "current_value = get_current_processor_power_value(active_plan_guid, \"PROCTHROTTLEMAX\")\n",
    "\n",
    "# Add a label to show the current setting\n",
    "label = tk.Label(app, text=f\"Current Setting: {current_value}\")\n",
    "label.pack()\n",
    "\n",
    "# Add a close button\n",
    "close_button = ttk.Button(app, text=\"Close\", command=close_app)\n",
    "close_button.pack()\n",
    "# Run the application\n",
    "app.mainloop()"
   ]
  },
  {
   "cell_type": "code",
   "execution_count": 16,
   "id": "de7ffa07-46f4-48ca-a993-da58e05e883f",
   "metadata": {},
   "outputs": [
    {
     "data": {
      "text/plain": [
       "'381b4222-f694-41f0-9685-ff5bb260df2e'"
      ]
     },
     "execution_count": 16,
     "metadata": {},
     "output_type": "execute_result"
    }
   ],
   "source": [
    "active_plan_guid"
   ]
  },
  {
   "cell_type": "code",
   "execution_count": 17,
   "id": "6165f34e-c868-4312-b207-5610aa60223e",
   "metadata": {},
   "outputs": [
    {
     "data": {
      "text/plain": [
       "0"
      ]
     },
     "execution_count": 17,
     "metadata": {},
     "output_type": "execute_result"
    }
   ],
   "source": [
    "current_value"
   ]
  },
  {
   "cell_type": "code",
   "execution_count": 11,
   "id": "4225ee86-cb4e-4f99-8f9b-a977e1e4deed",
   "metadata": {},
   "outputs": [
    {
     "name": "stdout",
     "output_type": "stream",
     "text": [
      "<re.Match object; span=(514, 545), match='Power Setting Index: 0x00000064'>\n"
     ]
    }
   ],
   "source": [
    "#powercfg -q 381b4222-f694-41f0-9685-ff5bb260df2e \"SUB_PROCESSOR\" \"PROCTHROTTLEMAX\"\n",
    "\n",
    "# Query the current setting value\n",
    "result = subprocess.run([\"powercfg\", \"-q\", \"381b4222-f694-41f0-9685-ff5bb260df2e\", \"SUB_PROCESSOR\", \"PROCTHROTTLEMAX\"], capture_output=True, text=True)\n",
    "match = re.search(r'Power Setting Index: 0x([\\da-fA-F]+)', result.stdout)\n",
    "if match:\n",
    "    # Convert the value to percentage\n",
    "    print(match)\n",
    "    #int(match.group(1)) * 100 // 0x64"
   ]
  },
  {
   "cell_type": "code",
   "execution_count": null,
   "id": "84709ca5-1a49-426d-b26d-1780595be193",
   "metadata": {},
   "outputs": [],
   "source": []
  }
 ],
 "metadata": {
  "kernelspec": {
   "display_name": "Python 3 (ipykernel)",
   "language": "python",
   "name": "python3"
  },
  "language_info": {
   "codemirror_mode": {
    "name": "ipython",
    "version": 3
   },
   "file_extension": ".py",
   "mimetype": "text/x-python",
   "name": "python",
   "nbconvert_exporter": "python",
   "pygments_lexer": "ipython3",
   "version": "3.9.13"
  }
 },
 "nbformat": 4,
 "nbformat_minor": 5
}
